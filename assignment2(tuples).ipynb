{
  "nbformat": 4,
  "nbformat_minor": 0,
  "metadata": {
    "colab": {
      "provenance": []
    },
    "kernelspec": {
      "name": "python3",
      "display_name": "Python 3"
    },
    "language_info": {
      "name": "python"
    }
  },
  "cells": [
    {
      "cell_type": "code",
      "execution_count": 21,
      "metadata": {
        "colab": {
          "base_uri": "https://localhost:8080/"
        },
        "id": "74mvvkDxpP4E",
        "outputId": "6e059bcd-5cfa-46c9-84d3-726ff4517aed"
      },
      "outputs": [
        {
          "output_type": "stream",
          "name": "stdout",
          "text": [
            "(1, 'samara', 2.0)\n",
            "<class 'int'>\n",
            "(1, 'samara', 2.0, 7, 8)\n",
            "(1, 'samara', 2.0, 1, 'samara', 2.0)\n",
            "yes exists\n",
            "3\n",
            "1\n",
            "samara\n",
            "2.0\n",
            "[1, 'samara', 2.0]\n",
            "(1, 'samara', 2.0)\n",
            "3\n",
            "1\n",
            "((1, 3), (5, 7))\n"
          ]
        }
      ],
      "source": [
        "#tuples\n",
        "my_tuple = (1,\"samara\",2.0) #1st declaration\n",
        "print(my_tuple)\n",
        "first_element=type(my_tuple[0]) #2 accesing type\n",
        "print(first_element)\n",
        "new_tuple = my_tuple+(7,8) #3 concatination\n",
        "print(new_tuple)\n",
        "multiplied_tuple=my_tuple*2 #4 multiply tuples\n",
        "print(multiplied_tuple)\n",
        "if 2 in my_tuple: #5 checking\n",
        "  print(\"yes exists\")\n",
        "length=len(my_tuple) #6 length\n",
        "print(length)\n",
        "for i in my_tuple: #7 iteration\n",
        "  print(i)\n",
        "tuple_to_list=list(my_tuple) #8 conversion lis<=>tuple\n",
        "print(tuple_to_list)\n",
        "list_to_tuple=tuple(tuple_to_list)\n",
        "print(list_to_tuple)\n",
        "my_tuple1=(1,2,3)\n",
        "maximum=max(my_tuple1) #9 max and min\n",
        "print(maximum)\n",
        "minimum=min(my_tuple1)\n",
        "print(minimum)\n",
        "nested_tuple=((1,3),(5,7))  #10 nested loop\n",
        "print(nested_tuple)"
      ]
    }
  ]
}
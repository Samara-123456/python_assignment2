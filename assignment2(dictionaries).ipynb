{
  "nbformat": 4,
  "nbformat_minor": 0,
  "metadata": {
    "colab": {
      "provenance": []
    },
    "kernelspec": {
      "name": "python3",
      "display_name": "Python 3"
    },
    "language_info": {
      "name": "python"
    }
  },
  "cells": [
    {
      "cell_type": "code",
      "execution_count": 16,
      "metadata": {
        "colab": {
          "base_uri": "https://localhost:8080/"
        },
        "id": "GzngBSlJ09P5",
        "outputId": "303e4836-b1b2-4444-cf73-996afd2ea4a6"
      },
      "outputs": [
        {
          "output_type": "stream",
          "name": "stdout",
          "text": [
            "{'name': 'samara', 'age': 20, 'city': 'madurai'}\n",
            "samara\n",
            "{'name': 'samara', 'age': 20, 'city': 'madurai', 'job': 'engineer'}\n",
            "{'name': 'samara', 'age': 21, 'city': 'madurai', 'job': 'engineer'}\n",
            "{'name': 'samara', 'age': 21, 'job': 'engineer'}\n",
            "name exists\n",
            "dict_keys(['name', 'age', 'job'])\n",
            "<built-in method values of dict object at 0x79b9fff75440>\n",
            "name samara\n",
            "age 21\n",
            "job engineer\n",
            "{'religion': 'hindu', 'place': 'badvel'}\n",
            "{'name': 'samara', 'age': 21, 'job': 'engineer', 'religion': 'hindu', 'place': 'badvel'}\n",
            "3\n",
            "{'names': ['Alice', 'Bob'], 'ages': [25, 30]}\n"
          ]
        }
      ],
      "source": [
        "#dictionaries\n",
        "my_dict={\"name\": \"samara\", \"age\" : 20, \"city\":\"madurai\" } #1 assigning a dictionary\n",
        "print(my_dict)\n",
        "name=my_dict[\"name\"] #2nd accessing\n",
        "print(name)\n",
        "my_dict[\"job\"]=\"engineer\" # 3adding\n",
        "print(my_dict)\n",
        "my_dict[\"age\"] = 21 #4 updating\n",
        "print(my_dict)\n",
        "del my_dict[\"city\"] #5 deleting\n",
        "print(my_dict)\n",
        "if \"name\" in my_dict: #6 checking\n",
        "  print(\"name exists\")\n",
        "keys = my_dict.keys() #7 keys and values\n",
        "print(keys)\n",
        "values = my_dict.values\n",
        "print(values)\n",
        "for key, value in my_dict.items(): #8 iterating\n",
        "    print(key, value)\n",
        "my_dict1={\"religion\":\"hindu\", \"place\": \"badvel\"}\n",
        "print(my_dict1)\n",
        "merged_dict = {**my_dict, **my_dict1} #9 merged\n",
        "print(merged_dict)\n",
        "length = len(my_dict) #10 length\n",
        "print(length)\n",
        "my_dict2 = {\"names\": [\"Alice\", \"Bob\"], \"ages\": [25, 30]} #11 keys as strings and values as numeric\n",
        "print(my_dict2)\n",
        "\n",
        "\n"
      ]
    }
  ]
}
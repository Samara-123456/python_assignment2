{
  "nbformat": 4,
  "nbformat_minor": 0,
  "metadata": {
    "colab": {
      "provenance": []
    },
    "kernelspec": {
      "name": "python3",
      "display_name": "Python 3"
    },
    "language_info": {
      "name": "python"
    }
  },
  "cells": [
    {
      "cell_type": "code",
      "execution_count": 23,
      "metadata": {
        "colab": {
          "base_uri": "https://localhost:8080/"
        },
        "id": "vC0tUsJlts9z",
        "outputId": "35d07a22-dcc6-4233-9b9d-22891d843a83"
      },
      "outputs": [
        {
          "output_type": "stream",
          "name": "stdout",
          "text": [
            "{1, 3, 4, 6, 7, 8}\n",
            "{4, 6}\n",
            "{1, 6}\n",
            "4 is present\n",
            "None\n",
            "None\n",
            "4\n",
            "1\n",
            "4\n",
            "6\n",
            "7\n",
            "False\n",
            "False\n",
            "frozenset({1, 4, 6, 7})\n"
          ]
        }
      ],
      "source": [
        "#sets\n",
        "my_set1={1,3,4,6} #1 union of sets\n",
        "my_set2={4,6,7,8}\n",
        "union_set= my_set1 | my_set2 #2 unionset\n",
        "print(union_set)\n",
        "intersect_set=my_set1 & my_set2 #3 intersect set\n",
        "print(intersect_set)\n",
        "difference_set = my_set1 - {3,4} #4 difference set\n",
        "print(difference_set)\n",
        "if 4 in my_set1: #5 check if in set\n",
        "  print(\"4 is present\")\n",
        "add_element=my_set1.add(7) #6 add to a set\n",
        "print(add_element)\n",
        "rem_element=my_set1.remove(3) #7 remove from a set\n",
        "print(rem_element)\n",
        "length=len(my_set1) #8 length\n",
        "print(length)\n",
        "for item in my_set1: #9 iteration\n",
        "  print(item)\n",
        "subset={3,4}.issubset(my_set1)  #10 subset\n",
        "print(subset)\n",
        "disjointset=my_set1.isdisjoint(my_set2) #11 disjoint\n",
        "print(disjointset)\n",
        "frozen_set= frozenset(my_set1)#12 frozen set\n",
        "print(frozen_set)\n",
        "\n",
        "\n",
        "\n",
        "\n"
      ]
    }
  ]
}
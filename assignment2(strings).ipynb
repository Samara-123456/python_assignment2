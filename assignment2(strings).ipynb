{
  "nbformat": 4,
  "nbformat_minor": 0,
  "metadata": {
    "colab": {
      "provenance": []
    },
    "kernelspec": {
      "name": "python3",
      "display_name": "Python 3"
    },
    "language_info": {
      "name": "python"
    }
  },
  "cells": [
    {
      "cell_type": "code",
      "execution_count": 24,
      "metadata": {
        "colab": {
          "base_uri": "https://localhost:8080/"
        },
        "id": "5SLpuMKhgtZy",
        "outputId": "9e40ef00-1242-4279-cd68-9ad6154a0cf9"
      },
      "outputs": [
        {
          "output_type": "stream",
          "name": "stdout",
          "text": [
            "samara simha\n",
            "samara simhahow r u\n",
            "s\n",
            "samara \n",
            "SAMARA SIMHA\n",
            "samara simha\n",
            "samara exists\n",
            "samara reddy\n",
            "['samara simha']\n",
            "s a m a r a   s i m h a\n",
            "samara simha\n"
          ]
        }
      ],
      "source": [
        "my_string='samara simha' #1len of string\n",
        "print(my_string)\n",
        "len(my_string)\n",
        "new_string = my_string+  \"how r u\" #2concatination\n",
        "print(new_string)\n",
        "first_char = my_string[0] # 3 accessing characters\n",
        "print(first_char)\n",
        "slicing = my_string[0:7] #4 slicing\n",
        "print(slicing)\n",
        "upper_case=my_string.upper() #5 lower and upper case\n",
        "lower_case= my_string.lower()\n",
        "print(upper_case )\n",
        "print(lower_case)\n",
        "if \"samara\" in my_string: #6 checking substring\n",
        "  print(\"samara exists\")\n",
        "new_string=my_string.replace(\"simha\",\"reddy\") # 7replacing\n",
        "print(new_string)\n",
        "words=my_string.split(\",\") #8 words splitting\n",
        "print(words)\n",
        "new_string1= \" \".join(my_string) #9 joining\n",
        "print(new_string1)\n",
        "stripped_string = my_string.strip() #10 whitespace removing\n",
        "print(stripped_string)\n",
        "\n",
        "\n"
      ]
    },
    {
      "cell_type": "code",
      "source": [
        "my_string=\"saas\" #11 palindrome\n",
        "my_string==my_string[::-1]\n",
        "\n"
      ],
      "metadata": {
        "colab": {
          "base_uri": "https://localhost:8080/"
        },
        "id": "un8NL8dplnb_",
        "outputId": "c6979473-7c6e-4e5a-e021-b944d2a575e7"
      },
      "execution_count": 34,
      "outputs": [
        {
          "output_type": "execute_result",
          "data": {
            "text/plain": [
              "True"
            ]
          },
          "metadata": {},
          "execution_count": 34
        }
      ]
    },
    {
      "cell_type": "code",
      "source": [
        "count=my_string.count(\"s\") #13 count\n",
        "print(count)\n",
        "reversed_string = my_string[::-1] #14 reverse\n",
        "print(reversed_string)\n",
        "digits=my_string.isdigit() #15 digits\n",
        "print(digits)\n",
        "alpha=my_string.isalpha() #16 alpha\n",
        "print(alpha)\n",
        "import re #17 email\n",
        "is_valid_email = re.match(r\"[^@]+@[^@]+\\.[^@]+\", my_string)\n",
        "print(is_valid_email)\n",
        "encoded_string = my_string.encode(\"utf-8\") #18 encoding and decoding\n",
        "print(encoded_string)\n",
        "decoded_string = encoded_string.decode(\"utf-8\")\n",
        "print(decoded_string)\n",
        "\n"
      ],
      "metadata": {
        "colab": {
          "base_uri": "https://localhost:8080/"
        },
        "id": "Rg0S_m9BmhUC",
        "outputId": "d80a9cc8-4419-4375-c883-b0e00a24b18d"
      },
      "execution_count": 46,
      "outputs": [
        {
          "output_type": "stream",
          "name": "stdout",
          "text": [
            "2\n",
            "saas\n",
            "False\n",
            "True\n",
            "None\n",
            "b'saas'\n",
            "saas\n"
          ]
        }
      ]
    }
  ]
}
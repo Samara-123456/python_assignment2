{
  "nbformat": 4,
  "nbformat_minor": 0,
  "metadata": {
    "colab": {
      "provenance": []
    },
    "kernelspec": {
      "name": "python3",
      "display_name": "Python 3"
    },
    "language_info": {
      "name": "python"
    }
  },
  "cells": [
    {
      "cell_type": "code",
      "execution_count": 16,
      "metadata": {
        "colab": {
          "base_uri": "https://localhost:8080/"
        },
        "id": "oWrs31mv40o8",
        "outputId": "e886c30e-9caf-4619-c1c1-ff45659448ad"
      },
      "outputs": [
        {
          "output_type": "execute_result",
          "data": {
            "text/plain": [
              "5"
            ]
          },
          "metadata": {},
          "execution_count": 16
        }
      ],
      "source": [
        "list=[\"samara\",\"vasu\",\"vikash\",\"sunil\",\"swathi\"] #1 length of list\n",
        "len(list)\n",
        "\n"
      ]
    },
    {
      "cell_type": "code",
      "source": [
        "list[:3] #2 first three names\n"
      ],
      "metadata": {
        "colab": {
          "base_uri": "https://localhost:8080/"
        },
        "id": "uIMdtkRN5y1u",
        "outputId": "9d245f70-12b6-4c64-fffb-95efe1d7e75c"
      },
      "execution_count": 14,
      "outputs": [
        {
          "output_type": "execute_result",
          "data": {
            "text/plain": [
              "['samara', 'vasu', 'vikash']"
            ]
          },
          "metadata": {},
          "execution_count": 14
        }
      ]
    },
    {
      "cell_type": "code",
      "source": [
        "list=[\"samara\",\"vasu\",\"vikash\",\"sunil\",\"swathi\"] #3 last element\n",
        "list.pop(4)\n"
      ],
      "metadata": {
        "colab": {
          "base_uri": "https://localhost:8080/",
          "height": 36
        },
        "id": "L9kq8Bm-54cR",
        "outputId": "19bca05c-15a1-453f-8e64-c771aa5df1a3"
      },
      "execution_count": 17,
      "outputs": [
        {
          "output_type": "execute_result",
          "data": {
            "text/plain": [
              "'swathi'"
            ],
            "application/vnd.google.colaboratory.intrinsic+json": {
              "type": "string"
            }
          },
          "metadata": {},
          "execution_count": 17
        }
      ]
    },
    {
      "cell_type": "code",
      "source": [
        "list1=[\"samara\",\"simha\",\"samara\",\"alice\"] #4 unique list\n",
        "unique_list=set(list1)\n",
        "print(unique_list) #5 sorting\n",
        "list1.sort()\n",
        "print(list1)\n",
        "if \"alice\"in list1: #6 checing\n",
        "  print(\"yes exists\")\n",
        "list2=[\"abb\",\"bob\"]\n",
        "index=list2[1] #7 index\n",
        "print(index)\n",
        "my_dict={\"samara\": \"6\"} #8 dictionary with keys and values\n",
        "print(my_dict)\n",
        "set1={\"Apple\",\"Arun\",\"Aravind\"} #9 sets\n",
        "print(set1)\n",
        "new_string=\" , \".join(set1) #10 seperation with commas\n",
        "print(new_string)"
      ],
      "metadata": {
        "colab": {
          "base_uri": "https://localhost:8080/"
        },
        "id": "E7dAaCC36UtA",
        "outputId": "fcef166f-9175-4e5f-eaea-02c57679e3ac"
      },
      "execution_count": 38,
      "outputs": [
        {
          "output_type": "stream",
          "name": "stdout",
          "text": [
            "{'simha', 'alice', 'samara'}\n",
            "['alice', 'samara', 'samara', 'simha']\n",
            "yes exists\n",
            "bob\n",
            "{'samara': '6'}\n",
            "{'Aravind', 'Arun', 'Apple'}\n",
            "Aravind , Arun , Apple\n"
          ]
        }
      ]
    },
    {
      "cell_type": "code",
      "source": [],
      "metadata": {
        "id": "j42qFuMC79DO"
      },
      "execution_count": null,
      "outputs": []
    }
  ]
}
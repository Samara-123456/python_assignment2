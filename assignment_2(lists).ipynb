{
  "nbformat": 4,
  "nbformat_minor": 0,
  "metadata": {
    "colab": {
      "provenance": []
    },
    "kernelspec": {
      "name": "python3",
      "display_name": "Python 3"
    },
    "language_info": {
      "name": "python"
    }
  },
  "cells": [
    {
      "cell_type": "code",
      "execution_count": 36,
      "metadata": {
        "colab": {
          "base_uri": "https://localhost:8080/"
        },
        "id": "FxTjNsu7VsLv",
        "outputId": "22242139-fe94-4779-ccf4-60c9fc9b217b"
      },
      "outputs": [
        {
          "output_type": "stream",
          "name": "stdout",
          "text": [
            "[7, 8, 9, 6]\n",
            "7\n",
            "6\n",
            "[8, 9, 6]\n",
            "[7, 8, 9, 6, 5]\n",
            "[7, 8, 4, 9, 6, 5]\n",
            "[7, 8, 4, 6, 5]\n",
            "[7, 8, 6, 5]\n",
            "yes it is present\n",
            "4\n",
            "7\n",
            "8\n",
            "6\n",
            "5\n",
            "[5, 6, 7, 8]\n",
            "[8, 7, 6, 5]\n",
            "[5, 6, 7, 8]\n",
            "[5, 6, 7, 8, 7]\n",
            "[8, 5, 6, 7]\n",
            "8\n",
            "5\n"
          ]
        }
      ],
      "source": [
        "#lists\n",
        "my_list = [7,8,9,6] # 1creating list\n",
        "print(my_list)\n",
        "first_element=my_list[0] # 2printng first element\n",
        "last_element=my_list[-1] # 2printng second element\n",
        "print(first_element)\n",
        "print(last_element)\n",
        "subset=my_list[1:4] # 3slicing\n",
        "print(subset)\n",
        "my_list.append(5) # 4 appending\n",
        "print(my_list)\n",
        "my_list.insert(2,4) # 5 inserting\n",
        "print(my_list)\n",
        "my_list.remove(9) # 6 removing the element by value\n",
        "print(my_list)\n",
        "my_list.pop(2) # 7 removing the element by index\n",
        "print(my_list)\n",
        "if 7 in my_list: #8 checking the element in list\n",
        "  print(\"yes it is present\")\n",
        "length=len(my_list) #9 length of list\n",
        "print(length)\n",
        "for i in my_list: #10 iteration\n",
        "  print(i)\n",
        "my_list.sort() #11 ascending order\n",
        "print(my_list)\n",
        "my_list.sort(reverse=True) #11 descending order\n",
        "print(my_list)\n",
        "my_list.reverse() #12 reverse\n",
        "print(my_list)\n",
        "my_list.append(7)\n",
        "print(my_list)\n",
        "unique_list= list(set(my_list)) #13 unique_list\n",
        "print(unique_list)\n",
        "max_value = max(my_list) #14 maximum and minimum values\n",
        "print(max_value)\n",
        "min_value = min(my_list)\n",
        "print(min_value)\n"
      ]
    },
    {
      "cell_type": "code",
      "source": [
        "my_list1=[5,6,7,8] #15 sets equal\n",
        "if my_list1 == my_list:\n",
        " print(\"lists are equal \") #nested lists\n",
        "nested_list = [[3,4],[5,6]]\n",
        "print(nested_list)"
      ],
      "metadata": {
        "colab": {
          "base_uri": "https://localhost:8080/"
        },
        "id": "47EyAclcdRf8",
        "outputId": "95bf5182-4549-4c9b-e532-ab6e339eb4e7"
      },
      "execution_count": 44,
      "outputs": [
        {
          "output_type": "stream",
          "name": "stdout",
          "text": [
            "[[3, 4], [5, 6]]\n"
          ]
        }
      ]
    }
  ]
}